{
 "cells": [
  {
   "cell_type": "markdown",
   "metadata": {},
   "source": [
    "# Libraries Import"
   ]
  },
  {
   "cell_type": "code",
   "execution_count": 43,
   "metadata": {},
   "outputs": [],
   "source": [
    "import pandas as pd\n",
    "\n",
    "# for connection with Azure SQL Database\n",
    "import pyodbc\n",
    "\n",
    "# for keeping credentials out of sight\n",
    "import os\n",
    "from dotenv import load_dotenv"
   ]
  },
  {
   "cell_type": "markdown",
   "metadata": {},
   "source": [
    "# Credentials and Authorization\n",
    "\n",
    "You will need to insert your database connection parameters and save as `sql-keys.env` local file.\n",
    "\n",
    "```\n",
    "DB_SERVER = \"XXXXX\"\n",
    "DB_NAME = \"XXXXX\" \n",
    "DB_USERNAME = \"XXXXX\"\n",
    "DB_PASSWORD = XXXXX\n",
    "```\n",
    "The following is the list of the connection parameters:\n",
    "- *DB_SERVER*: database server address e.g., localhost or an IP address.\n",
    "- *DB_NAME*: the name of the database that you want to connect.\n",
    "- *DB_USERNAME*: the username used to authenticate.\n",
    "- *DB_PASSWORD*: password used to authenticate.\n"
   ]
  },
  {
   "cell_type": "code",
   "execution_count": 50,
   "metadata": {},
   "outputs": [
    {
     "name": "stdout",
     "output_type": "stream",
     "text": [
      "<pyodbc.Connection object at 0x000002972419F1C0>\n"
     ]
    }
   ],
   "source": [
    "# establish working directory path\n",
    "# getcwd() returns current working directory\n",
    "wdir_path = os.getcwd()\n",
    "\n",
    "sql_path = os.path.join(wdir_path, \"sql-keys.env\") # absolute path of \"sql-keys.env\"\n",
    "# load the credentials into os environment \n",
    "load_dotenv(sql_path)\n",
    "#check if credentials loaded successfully\n",
    "os.environ\n",
    "\n",
    "# getting credentials information from \"sql-keys.env\"\n",
    "server = os.getenv(\"DB_SERVER\")\n",
    "database = os.getenv(\"DB_NAME\")\n",
    "username = os.getenv(\"DB_USERNAME\")\n",
    "password = os.getenv(\"DB_PASSWORD\")\n",
    "\n",
    "driver = ''\n",
    "# retriving ODBC Driver information in user's computer using Pyodbc\n",
    "driver_names = [x for x in pyodbc.drivers() if x.endswith(' for SQL Server')]\n",
    "if driver_names:\n",
    "    driver = driver_names[0]\n",
    "# if driver exists, create connection\n",
    "if driver:\n",
    "    # establish the connection\n",
    "    conn = pyodbc.connect(\"DRIVER={\" + driver + \"};SERVER=\" + server +\n",
    "                      \";DATABASE=\" + database + \";UID=\" + username +\n",
    "                      \";PWD=\" + password)\n",
    "    print(conn)\n",
    "else:\n",
    "    print(\"(No suitable driver found. Cannot connect.)\")\n"
   ]
  },
  {
   "cell_type": "markdown",
   "metadata": {},
   "source": [
    "# Create a cusor object"
   ]
  },
  {
   "cell_type": "code",
   "execution_count": 58,
   "metadata": {},
   "outputs": [],
   "source": [
    "cursor = conn.cursor()"
   ]
  },
  {
   "cell_type": "markdown",
   "metadata": {},
   "source": [
    "# Database Tables Creation"
   ]
  },
  {
   "cell_type": "code",
   "execution_count": 83,
   "metadata": {},
   "outputs": [
    {
     "name": "stdout",
     "output_type": "stream",
     "text": [
      "olist_sellers successfully created.\n",
      "olist_customers successfully created.\n"
     ]
    }
   ],
   "source": [
    "def create_table(command, msg):\n",
    "    '''\n",
    "    Function to create table into Azure database\n",
    "    \n",
    "    Parameters:\n",
    "        command (string): SQL statement to create new table in database\n",
    "        msg (string): A string message to print that table is successfully created\n",
    "    '''\n",
    "    try:\n",
    "        cursor.execute(command)\n",
    "        conn.commit()     \n",
    "    except Exception as e:\n",
    "        # rollback current transaction if there is an error\n",
    "        conn.rollback()\n",
    "        raise e\n",
    "    print(msg)\n",
    "\n",
    "# create olist_sellers table\n",
    "create_table(\"\"\"\n",
    "            IF OBJECT_ID('dbo.olist_sellers', 'U') IS NULL \n",
    "                CREATE TABLE olist_sellers\n",
    "                (\n",
    "                    seller_id VARCHAR(255) PRIMARY KEY NOT NULL, \n",
    "                    seller_zip_code_prefix INT, \n",
    "                    seller_city VARCHAR(255), \n",
    "                    seller_state VARCHAR(2)\n",
    "                );\n",
    "            \"\"\",\n",
    "            \"olist_sellers successfully created.\")\n",
    "\n",
    "# create olist_customers table\n",
    "create_table(\"\"\"\n",
    "            IF OBJECT_ID('dbo.olist_customers', 'U') IS NULL \n",
    "                CREATE TABLE olist_customers \n",
    "                (\n",
    "                    customer_id VARCHAR(255) PRIMARY KEY NOT NULL,\n",
    "                    customer_unique_id VARCHAR(255) NOT NULL, \n",
    "                    customer_zip_code_prefix INT, \n",
    "                    customer_city VARCHAR(255), \n",
    "                    customer_state VARCHAR(2)\n",
    "                );\n",
    "            \"\"\",\n",
    "            \"olist_customers successfully created.\")\n",
    "\n",
    "# create olist_geolocation\n",
    "create_table(\"\"\"\n",
    "            IF OBJECT_ID('dbo.olist_geolocation', 'U') IS NULL \n",
    "                CREATE TABLE olist_geolocation \n",
    "                (\n",
    "                    geolocation_zip_code_prefix INT PRIMARY KEY NOT NULL,\n",
    "                    geolocation_lat DEMICAL NOT NULL, \n",
    "                    geolocation_lng DECIMAL NOT NULL, \n",
    "                    geolocation_city VARCHAR(255) NOT NULL, \n",
    "                    geolocation_state VARCHAR(2) NOT NULL\n",
    "                );\n",
    "            \"\"\",\n",
    "            \"olist_geolocation successfully created.\")\n",
    "\n",
    "conn.commit()"
   ]
  },
  {
   "cell_type": "markdown",
   "metadata": {},
   "source": [
    "olist_order_reviews_dataset.csv"
   ]
  },
  {
   "cell_type": "code",
   "execution_count": null,
   "metadata": {},
   "outputs": [],
   "source": [
    "# review_id: unique review identifier\n",
    "# order_id: unique order identifier\n",
    "# review_score: Note ranging from 1 to 5 given by the customer on a satisfaction survey\n",
    "# review_comment_title: Comment title from the review left by the customer, in Portuguese\n",
    "# review_comment_message: Comment message from the review left by the customer, in Portuguese\n",
    "# review_creation_date: Shows the date in which the satisfaction survey was sent to the customer\n",
    "# review_answer_timestamp: Shows satisfaction survey answer timestamp\n",
    "\n",
    "# Read in olist_order_reviews_dataset.csv as pandas dataframe and parse dates of \n",
    "# \"review_creation_date\" and \"review_answer_timestamp\" columns.\n",
    "parse_dates = [\"review_creation_date\", \"review_answer_timestamp\"]\n",
    "order_reviews_data = pd.read_csv(\"olist_order_reviews_dataset.csv\",\\\n",
    "                                 infer_datetime_format = True, parse_dates = parse_dates)\n",
    "\n",
    "# Drop duplicates from review_id column.\n",
    "order_reviews_data.drop_duplicates(subset = ['review_id'], inplace = True)\n",
    "\n",
    "# Preview the first 5 lines of the loaded data \n",
    "order_reviews_data.head()"
   ]
  },
  {
   "cell_type": "code",
   "execution_count": null,
   "metadata": {},
   "outputs": [],
   "source": [
    "# Count number of entries in each column\n",
    "order_reviews_data.count()"
   ]
  },
  {
   "cell_type": "code",
   "execution_count": null,
   "metadata": {},
   "outputs": [],
   "source": [
    "# Count number of unique entries\n",
    "order_reviews_data.nunique()"
   ]
  },
  {
   "cell_type": "code",
   "execution_count": null,
   "metadata": {},
   "outputs": [],
   "source": [
    "# Check for null values\n",
    "order_reviews_data.isnull().sum()"
   ]
  },
  {
   "cell_type": "code",
   "execution_count": null,
   "metadata": {},
   "outputs": [],
   "source": [
    "# Drop columns with null values\n",
    "order_reviews_data.drop(columns = [\"review_comment_title\", \"review_comment_message\"], inplace = True)"
   ]
  },
  {
   "cell_type": "code",
   "execution_count": null,
   "metadata": {},
   "outputs": [],
   "source": [
    "# Check datatypes\n",
    "order_reviews_data.dtypes"
   ]
  },
  {
   "cell_type": "code",
   "execution_count": null,
   "metadata": {},
   "outputs": [],
   "source": [
    "# Change column to datetime\n",
    "order_reviews_data['review_answer_timestamp'] = order_reviews_data['review_answer_timestamp'].dt.date\n",
    "order_reviews_data.head()"
   ]
  },
  {
   "cell_type": "code",
   "execution_count": null,
   "metadata": {},
   "outputs": [],
   "source": [
    "# Check datatypes\n",
    "order_reviews_data.dtypes"
   ]
  },
  {
   "cell_type": "markdown",
   "metadata": {},
   "source": [
    "olist_order_payments_dataset.csv"
   ]
  },
  {
   "cell_type": "code",
   "execution_count": null,
   "metadata": {},
   "outputs": [],
   "source": [
    "# order_id: unique order identifier\n",
    "# payment_sequential: a customer may pay an order with more than one payment method. If he does so, a sequence will be created to\n",
    "# payment_type: method of payment chosen by the customer\n",
    "# payment_installments: number of installments chosen by the customer\n",
    "# payment_value: transaction value\n",
    "\n",
    "# Boleto payments: Boleto is an official (regulated by the Central Bank of Brazil) payment method in Brazil. \n",
    "# To complete a transaction, customers receive a voucher stating the amount to pay for services or goods. \n",
    "# Customers then pay the boleto before its expiration date in one of several different methods, including at authorized agencies or banks, ATMs, or online bank portals. \n",
    "# You will receive payment confirmation after 1 business day, while funds will be available for payout 2 business days after payment confirmation.\n",
    "# https://stripe.com/docs/payments/boleto \n",
    "# https://www.rapyd.net/blog/what-is-boleto-everything-you-need-to-know/ \n",
    "\n",
    "# Read in olist_order_payments_dataset.csv and make pandas dataframe\n",
    "order_payment_data = pd.read_csv(\"C:/Users/Mavis Luo/Downloads/Final Year Project/Dataset/olist_order_payments_dataset.csv\")\n",
    "\n",
    "# Drop duplicates from order_id column\n",
    "order_payment_data.drop_duplicates(subset = ['order_id'], inplace = True)\n",
    "\n",
    "# Set index as order_id\n",
    "order_payment_data.set_index(\"order_id\", inplace = True)\n",
    "\n",
    "# Print dataframe\n",
    "order_payment_data.head()"
   ]
  },
  {
   "cell_type": "code",
   "execution_count": null,
   "metadata": {},
   "outputs": [],
   "source": [
    "# Count rows of each column\n",
    "order_payment_data.count()"
   ]
  },
  {
   "cell_type": "code",
   "execution_count": null,
   "metadata": {},
   "outputs": [],
   "source": [
    "# Count number of unique entries\n",
    "order_payment_data.nunique()"
   ]
  },
  {
   "cell_type": "code",
   "execution_count": null,
   "metadata": {},
   "outputs": [],
   "source": [
    "# Print dataframe\n",
    "order_payment_data.head()"
   ]
  },
  {
   "cell_type": "code",
   "execution_count": null,
   "metadata": {},
   "outputs": [],
   "source": [
    "# Check for null values\n",
    "order_payment_data.isnull().sum()"
   ]
  },
  {
   "cell_type": "code",
   "execution_count": null,
   "metadata": {},
   "outputs": [],
   "source": [
    "# Check datatypes\n",
    "order_payment_data.dtypes"
   ]
  },
  {
   "cell_type": "code",
   "execution_count": null,
   "metadata": {},
   "outputs": [],
   "source": [
    "df_comments = olist_order_reviews.loc[:, ['review_score', 'review_comment_message']]\n",
    "df_comments = df_comments.dropna(subset=['review_comment_message'])\n",
    "df_comments = df_comments.reset_index(drop=True)\n",
    "print(f'Dataset shape: {df_comments.shape}')\n",
    "df_comments.columns = ['score', 'comment']\n",
    "df_comments.head()"
   ]
  }
 ],
 "metadata": {
  "interpreter": {
   "hash": "d888e4012f630a1791b605dfe07b25ffc379762a6d5a9edc260a72f30d593570"
  },
  "kernelspec": {
   "display_name": "Python 3.9.7",
   "language": "python",
   "name": "python3"
  },
  "language_info": {
   "codemirror_mode": {
    "name": "ipython",
    "version": 3
   },
   "file_extension": ".py",
   "mimetype": "text/x-python",
   "name": "python",
   "nbconvert_exporter": "python",
   "pygments_lexer": "ipython3",
   "version": "3.10.2"
  },
  "orig_nbformat": 4
 },
 "nbformat": 4,
 "nbformat_minor": 2
}
