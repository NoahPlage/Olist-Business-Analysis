{
 "cells": [
  {
   "cell_type": "code",
   "execution_count": 5,
   "metadata": {},
   "outputs": [
    {
     "name": "stdout",
     "output_type": "stream",
     "text": [
      "<pyodbc.Connection object at 0x000001BC259685E0>\n"
     ]
    }
   ],
   "source": [
    "import pyodbc\n",
    "\n",
    "# Establish the connection\n",
    "server = 'jde4group2.database.windows.net'\n",
    "database = 'olist-database'\n",
    "username = 'JDE4Group2'\n",
    "password = 'group2Pass'\n",
    "driver= '{ODBC Driver 18 for SQL Server}'\n",
    "conn = pyodbc.connect('DRIVER=' + driver + ';SERVER=' +\n",
    "    server + ';PORT=1433;DATABASE=' + database +\n",
    "    ';UID=' + username + ';PWD=' + password)\n",
    "\n",
    "print(conn)\n",
    "conn.close()"
   ]
  },
  {
   "cell_type": "code",
   "execution_count": null,
   "metadata": {},
   "outputs": [],
   "source": []
  }
 ],
 "metadata": {
  "interpreter": {
   "hash": "b89b5cfaba6639976dc87ff2fec6d58faec662063367e2c229c520fe71072417"
  },
  "kernelspec": {
   "display_name": "Python 3.10.2 64-bit",
   "language": "python",
   "name": "python3"
  },
  "language_info": {
   "codemirror_mode": {
    "name": "ipython",
    "version": 3
   },
   "file_extension": ".py",
   "mimetype": "text/x-python",
   "name": "python",
   "nbconvert_exporter": "python",
   "pygments_lexer": "ipython3",
   "version": "3.10.2"
  },
  "orig_nbformat": 4
 },
 "nbformat": 4,
 "nbformat_minor": 2
}
